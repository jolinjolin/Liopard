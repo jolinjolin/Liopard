{
 "cells": [
  {
   "cell_type": "markdown",
   "metadata": {},
   "source": [
    "# Test"
   ]
  },
  {
   "cell_type": "code",
   "execution_count": 1,
   "metadata": {},
   "outputs": [
    {
     "data": {
      "text/plain": [
       "'/Users/zx/opt/miniconda3/envs/liopard/bin/python'"
      ]
     },
     "execution_count": 1,
     "metadata": {},
     "output_type": "execute_result"
    }
   ],
   "source": [
    "import sys\n",
    "sys.executable"
   ]
  },
  {
   "cell_type": "code",
   "execution_count": 2,
   "metadata": {},
   "outputs": [],
   "source": [
    "%load_ext autoreload\n",
    "%autoreload 2"
   ]
  },
  {
   "cell_type": "code",
   "execution_count": 3,
   "metadata": {},
   "outputs": [],
   "source": [
    "import numpy as np\n",
    "import liopard as liop\n",
    "import pandas as pd"
   ]
  },
  {
   "cell_type": "code",
   "execution_count": 4,
   "metadata": {},
   "outputs": [],
   "source": [
    "name = np.array(['Tom', 'Jerry', 'John'])\n",
    "movie = np.array(['Sonic', 'Accountant', 'Doctor Strange'])\n",
    "paid = np.array([True, False, True])\n",
    "cost = np.array([20, 5, 80])\n",
    "\n",
    "data = {'name': name, 'movie': movie, 'paid': paid, 'cost': cost}\n",
    "\n",
    "df = liop.DataFrame(data)\n",
    "df_pandas = pd.DataFrame(data)"
   ]
  },
  {
   "cell_type": "code",
   "execution_count": 5,
   "metadata": {},
   "outputs": [
    {
     "data": {
      "text/html": [
       "<table><thead><tr><th></th><th>name      </th><th>movie     </th><th>paid      </th><th>cost      </th></tr></thead><tbody><tr><td><strong>0</strong></td><td>Tom       </td><td>Sonic     </td><td>True</td><td>        20</td></tr><tr><td><strong>1</strong></td><td>Jerry     </td><td>Accountant</td><td>False</td><td>         5</td></tr><tr><td><strong>2</strong></td><td>John      </td><td>Doctor Strange</td><td>True</td><td>        80</td></tr></tbody></table>"
      ],
      "text/plain": [
       "<liopard.DataFrame at 0x10dc41e80>"
      ]
     },
     "execution_count": 5,
     "metadata": {},
     "output_type": "execute_result"
    }
   ],
   "source": [
    "df"
   ]
  },
  {
   "cell_type": "code",
   "execution_count": 6,
   "metadata": {},
   "outputs": [
    {
     "data": {
      "text/html": [
       "<div>\n",
       "<style scoped>\n",
       "    .dataframe tbody tr th:only-of-type {\n",
       "        vertical-align: middle;\n",
       "    }\n",
       "\n",
       "    .dataframe tbody tr th {\n",
       "        vertical-align: top;\n",
       "    }\n",
       "\n",
       "    .dataframe thead th {\n",
       "        text-align: right;\n",
       "    }\n",
       "</style>\n",
       "<table border=\"1\" class=\"dataframe\">\n",
       "  <thead>\n",
       "    <tr style=\"text-align: right;\">\n",
       "      <th></th>\n",
       "      <th>name</th>\n",
       "      <th>movie</th>\n",
       "      <th>paid</th>\n",
       "      <th>cost</th>\n",
       "    </tr>\n",
       "  </thead>\n",
       "  <tbody>\n",
       "    <tr>\n",
       "      <th>0</th>\n",
       "      <td>Tom</td>\n",
       "      <td>Sonic</td>\n",
       "      <td>True</td>\n",
       "      <td>20</td>\n",
       "    </tr>\n",
       "    <tr>\n",
       "      <th>1</th>\n",
       "      <td>Jerry</td>\n",
       "      <td>Accountant</td>\n",
       "      <td>False</td>\n",
       "      <td>5</td>\n",
       "    </tr>\n",
       "    <tr>\n",
       "      <th>2</th>\n",
       "      <td>John</td>\n",
       "      <td>Doctor Strange</td>\n",
       "      <td>True</td>\n",
       "      <td>80</td>\n",
       "    </tr>\n",
       "  </tbody>\n",
       "</table>\n",
       "</div>"
      ],
      "text/plain": [
       "    name           movie   paid  cost\n",
       "0    Tom           Sonic   True    20\n",
       "1  Jerry      Accountant  False     5\n",
       "2   John  Doctor Strange   True    80"
      ]
     },
     "execution_count": 6,
     "metadata": {},
     "output_type": "execute_result"
    }
   ],
   "source": [
    "df_pandas"
   ]
  },
  {
   "cell_type": "code",
   "execution_count": 7,
   "metadata": {},
   "outputs": [],
   "source": [
    "#common type errors\n",
    "# d = np.array([[1,2],[3,4]])\n",
    "# liop.DataFrame(d)"
   ]
  },
  {
   "cell_type": "code",
   "execution_count": 8,
   "metadata": {},
   "outputs": [],
   "source": [
    "#length error\n",
    "# arr1 = np.array([1,2])\n",
    "# arr2 = np.array([3,4,5])\n",
    "# d = {'a':arr1, 'b':arr2 }\n",
    "# liop.DataFrame(d)"
   ]
  },
  {
   "cell_type": "code",
   "execution_count": 9,
   "metadata": {},
   "outputs": [
    {
     "data": {
      "text/plain": [
       "3"
      ]
     },
     "execution_count": 9,
     "metadata": {},
     "output_type": "execute_result"
    }
   ],
   "source": [
    "len(df)"
   ]
  },
  {
   "cell_type": "code",
   "execution_count": 10,
   "metadata": {},
   "outputs": [
    {
     "data": {
      "text/plain": [
       "['name', 'movie', 'paid', 'cost']"
      ]
     },
     "execution_count": 10,
     "metadata": {},
     "output_type": "execute_result"
    }
   ],
   "source": [
    "df.columns"
   ]
  },
  {
   "cell_type": "code",
   "execution_count": 11,
   "metadata": {},
   "outputs": [],
   "source": [
    "#df.columns = ['a', 'b', 'c', 'd']"
   ]
  },
  {
   "cell_type": "code",
   "execution_count": 12,
   "metadata": {},
   "outputs": [
    {
     "data": {
      "text/plain": [
       "(3, 4)"
      ]
     },
     "execution_count": 12,
     "metadata": {},
     "output_type": "execute_result"
    }
   ],
   "source": [
    "df.shape"
   ]
  },
  {
   "cell_type": "code",
   "execution_count": 13,
   "metadata": {},
   "outputs": [
    {
     "data": {
      "text/plain": [
       "'<table><thead><tr><th></th><th>name      </th><th>movie     </th><th>paid      </th><th>cost      </th></tr></thead><tbody><tr><td><strong>0</strong></td><td>Tom       </td><td>Sonic     </td><td>True</td><td>        20</td></tr><tr><td><strong>1</strong></td><td>Jerry     </td><td>Accountant</td><td>False</td><td>         5</td></tr><tr><td><strong>2</strong></td><td>John      </td><td>Doctor Strange</td><td>True</td><td>        80</td></tr></tbody></table>'"
      ]
     },
     "execution_count": 13,
     "metadata": {},
     "output_type": "execute_result"
    }
   ],
   "source": [
    "df._repr_html_()"
   ]
  },
  {
   "cell_type": "code",
   "execution_count": 14,
   "metadata": {},
   "outputs": [
    {
     "data": {
      "text/html": [
       "<table><thead><tr><th></th><th>Column Name</th><th>Data Type </th></tr></thead><tbody><tr><td><strong>0</strong></td><td>name      </td><td>string    </td></tr><tr><td><strong>1</strong></td><td>movie     </td><td>string    </td></tr><tr><td><strong>2</strong></td><td>paid      </td><td>bool      </td></tr><tr><td><strong>3</strong></td><td>cost      </td><td>int       </td></tr></tbody></table>"
      ],
      "text/plain": [
       "<liopard.DataFrame at 0x10dc8a8e0>"
      ]
     },
     "execution_count": 14,
     "metadata": {},
     "output_type": "execute_result"
    }
   ],
   "source": [
    "df.dtypes"
   ]
  },
  {
   "cell_type": "code",
   "execution_count": 15,
   "metadata": {},
   "outputs": [
    {
     "data": {
      "text/html": [
       "<table><thead><tr><th></th><th>name      </th><th>movie     </th></tr></thead><tbody><tr><td><strong>0</strong></td><td>Tom       </td><td>Sonic     </td></tr><tr><td><strong>1</strong></td><td>Jerry     </td><td>Accountant</td></tr><tr><td><strong>2</strong></td><td>John      </td><td>Doctor Strange</td></tr></tbody></table>"
      ],
      "text/plain": [
       "<liopard.DataFrame at 0x10dc8ad00>"
      ]
     },
     "execution_count": 15,
     "metadata": {},
     "output_type": "execute_result"
    }
   ],
   "source": [
    "df[['name','movie']]"
   ]
  },
  {
   "cell_type": "code",
   "execution_count": 16,
   "metadata": {},
   "outputs": [
    {
     "data": {
      "text/html": [
       "<table><thead><tr><th></th><th>name      </th><th>movie     </th><th>paid      </th><th>cost      </th></tr></thead><tbody><tr><td><strong>0</strong></td><td>Tom       </td><td>Sonic     </td><td>True</td><td>        20</td></tr><tr><td><strong>1</strong></td><td>John      </td><td>Doctor Strange</td><td>True</td><td>        80</td></tr></tbody></table>"
      ],
      "text/plain": [
       "<liopard.DataFrame at 0x10dc942e0>"
      ]
     },
     "execution_count": 16,
     "metadata": {},
     "output_type": "execute_result"
    }
   ],
   "source": [
    "filt = df['paid']\n",
    "df[filt]"
   ]
  },
  {
   "cell_type": "code",
   "execution_count": 17,
   "metadata": {},
   "outputs": [
    {
     "data": {
      "text/html": [
       "<table><thead><tr><th></th><th>paid      </th></tr></thead><tbody><tr><td><strong>0</strong></td><td>False</td></tr></tbody></table>"
      ],
      "text/plain": [
       "<liopard.DataFrame at 0x10dc94520>"
      ]
     },
     "execution_count": 17,
     "metadata": {},
     "output_type": "execute_result"
    }
   ],
   "source": [
    "df[1,2]"
   ]
  },
  {
   "cell_type": "code",
   "execution_count": 18,
   "metadata": {},
   "outputs": [
    {
     "data": {
      "text/html": [
       "<table><thead><tr><th></th><th>cost      </th></tr></thead><tbody><tr><td><strong>0</strong></td><td>        20</td></tr></tbody></table>"
      ],
      "text/plain": [
       "<liopard.DataFrame at 0x10dc941c0>"
      ]
     },
     "execution_count": 18,
     "metadata": {},
     "output_type": "execute_result"
    }
   ],
   "source": [
    "df[0, 'cost']"
   ]
  },
  {
   "cell_type": "code",
   "execution_count": 19,
   "metadata": {},
   "outputs": [
    {
     "data": {
      "text/html": [
       "<table><thead><tr><th></th><th>name      </th></tr></thead><tbody><tr><td><strong>0</strong></td><td>Tom       </td></tr><tr><td><strong>1</strong></td><td>Jerry     </td></tr></tbody></table>"
      ],
      "text/plain": [
       "<liopard.DataFrame at 0x10dc94400>"
      ]
     },
     "execution_count": 19,
     "metadata": {},
     "output_type": "execute_result"
    }
   ],
   "source": [
    "df[[0,1], 'name']"
   ]
  },
  {
   "cell_type": "code",
   "execution_count": 20,
   "metadata": {},
   "outputs": [
    {
     "data": {
      "text/html": [
       "<table><thead><tr><th></th><th>name      </th><th>movie     </th><th>paid      </th></tr></thead><tbody><tr><td><strong>0</strong></td><td>Tom       </td><td>Sonic     </td><td>True</td></tr><tr><td><strong>1</strong></td><td>Jerry     </td><td>Accountant</td><td>False</td></tr><tr><td><strong>2</strong></td><td>John      </td><td>Doctor Strange</td><td>True</td></tr></tbody></table>"
      ],
      "text/plain": [
       "<liopard.DataFrame at 0x10dc94a00>"
      ]
     },
     "execution_count": 20,
     "metadata": {},
     "output_type": "execute_result"
    }
   ],
   "source": [
    "df[:, 'name':'paid']"
   ]
  },
  {
   "cell_type": "code",
   "execution_count": 21,
   "metadata": {},
   "outputs": [],
   "source": [
    "df['review'] = np.array([4,5,4])\n",
    "df['comment'] = 'good'"
   ]
  },
  {
   "cell_type": "code",
   "execution_count": 22,
   "metadata": {},
   "outputs": [
    {
     "data": {
      "text/html": [
       "<table><thead><tr><th></th><th>name      </th><th>movie     </th><th>paid      </th><th>cost      </th><th>review    </th><th>comment   </th></tr></thead><tbody><tr><td><strong>0</strong></td><td>John      </td><td>Doctor Strange</td><td>True</td><td>        80</td><td>         4</td><td>good      </td></tr></tbody></table>"
      ],
      "text/plain": [
       "<liopard.DataFrame at 0x10dc9b1c0>"
      ]
     },
     "execution_count": 22,
     "metadata": {},
     "output_type": "execute_result"
    }
   ],
   "source": [
    "df.tail(1)"
   ]
  },
  {
   "cell_type": "code",
   "execution_count": 23,
   "metadata": {},
   "outputs": [
    {
     "data": {
      "text/html": [
       "<table><thead><tr><th></th><th>name      </th><th>movie     </th><th>paid      </th><th>cost      </th><th>review    </th><th>comment   </th></tr></thead><tbody><tr><td><strong>0</strong></td><td>TomJerryJohn</td><td>SonicAccountantDoctor Strange</td><td>         2</td><td>       105</td><td>        13</td><td>goodgoodgood</td></tr></tbody></table>"
      ],
      "text/plain": [
       "<liopard.DataFrame at 0x10dc9b160>"
      ]
     },
     "execution_count": 23,
     "metadata": {},
     "output_type": "execute_result"
    }
   ],
   "source": [
    "df.sum()"
   ]
  },
  {
   "cell_type": "code",
   "execution_count": 24,
   "metadata": {},
   "outputs": [
    {
     "data": {
      "text/html": [
       "<table><thead><tr><th></th><th>name      </th><th>movie     </th><th>paid      </th><th>cost      </th><th>review    </th><th>comment   </th></tr></thead><tbody><tr><td><strong>0</strong></td><td>False</td><td>False</td><td>False</td><td>False</td><td>False</td><td>False</td></tr><tr><td><strong>1</strong></td><td>False</td><td>False</td><td>False</td><td>False</td><td>False</td><td>False</td></tr><tr><td><strong>2</strong></td><td>False</td><td>False</td><td>False</td><td>False</td><td>False</td><td>False</td></tr></tbody></table>"
      ],
      "text/plain": [
       "<liopard.DataFrame at 0x10dc9ba90>"
      ]
     },
     "execution_count": 24,
     "metadata": {},
     "output_type": "execute_result"
    }
   ],
   "source": [
    "df.isna()"
   ]
  },
  {
   "cell_type": "code",
   "execution_count": 25,
   "metadata": {},
   "outputs": [
    {
     "data": {
      "text/html": [
       "<table><thead><tr><th></th><th>name      </th><th>movie     </th><th>paid      </th><th>cost      </th><th>review    </th><th>comment   </th></tr></thead><tbody><tr><td><strong>0</strong></td><td>         3</td><td>         3</td><td>         3</td><td>         3</td><td>         3</td><td>         3</td></tr></tbody></table>"
      ],
      "text/plain": [
       "<liopard.DataFrame at 0x10dc9ba60>"
      ]
     },
     "execution_count": 25,
     "metadata": {},
     "output_type": "execute_result"
    }
   ],
   "source": [
    "df.count()"
   ]
  },
  {
   "cell_type": "code",
   "execution_count": 26,
   "metadata": {},
   "outputs": [
    {
     "data": {
      "text/html": [
       "<table><thead><tr><th></th><th>comment   </th></tr></thead><tbody><tr><td><strong>0</strong></td><td>good      </td></tr></tbody></table>"
      ],
      "text/plain": [
       "<liopard.DataFrame at 0x10dca25e0>"
      ]
     },
     "execution_count": 26,
     "metadata": {},
     "output_type": "execute_result"
    }
   ],
   "source": [
    "df.unique()[-1]"
   ]
  },
  {
   "cell_type": "code",
   "execution_count": 27,
   "metadata": {},
   "outputs": [
    {
     "data": {
      "text/html": [
       "<table><thead><tr><th></th><th>name      </th><th>movie     </th><th>paid      </th><th>cost      </th><th>review    </th><th>comment   </th></tr></thead><tbody><tr><td><strong>0</strong></td><td>         3</td><td>         3</td><td>         2</td><td>         3</td><td>         2</td><td>         1</td></tr></tbody></table>"
      ],
      "text/plain": [
       "<liopard.DataFrame at 0x10dca2910>"
      ]
     },
     "execution_count": 27,
     "metadata": {},
     "output_type": "execute_result"
    }
   ],
   "source": [
    "df.nunique()"
   ]
  },
  {
   "cell_type": "code",
   "execution_count": 28,
   "metadata": {},
   "outputs": [
    {
     "data": {
      "text/html": [
       "<table><thead><tr><th></th><th>comment   </th><th>count     </th></tr></thead><tbody><tr><td><strong>0</strong></td><td>good      </td><td>         3</td></tr></tbody></table>"
      ],
      "text/plain": [
       "<liopard.DataFrame at 0x10dc414f0>"
      ]
     },
     "execution_count": 28,
     "metadata": {},
     "output_type": "execute_result"
    }
   ],
   "source": [
    "df.value_counts()[-1]"
   ]
  },
  {
   "cell_type": "code",
   "execution_count": 29,
   "metadata": {},
   "outputs": [
    {
     "data": {
      "text/html": [
       "<table><thead><tr><th></th><th>name      </th><th>movie     </th><th>paid      </th><th>cost      </th><th>rating    </th><th>comment   </th></tr></thead><tbody><tr><td><strong>0</strong></td><td>Tom       </td><td>Sonic     </td><td>True</td><td>        20</td><td>         4</td><td>good      </td></tr><tr><td><strong>1</strong></td><td>Jerry     </td><td>Accountant</td><td>False</td><td>         5</td><td>         5</td><td>good      </td></tr><tr><td><strong>2</strong></td><td>John      </td><td>Doctor Strange</td><td>True</td><td>        80</td><td>         4</td><td>good      </td></tr></tbody></table>"
      ],
      "text/plain": [
       "<liopard.DataFrame at 0x10dc41f70>"
      ]
     },
     "execution_count": 29,
     "metadata": {},
     "output_type": "execute_result"
    }
   ],
   "source": [
    "df.rename({'review':'rating'})"
   ]
  },
  {
   "cell_type": "code",
   "execution_count": 30,
   "metadata": {},
   "outputs": [
    {
     "data": {
      "text/html": [
       "<table><thead><tr><th></th><th>name      </th><th>movie     </th><th>paid      </th><th>cost      </th><th>review    </th></tr></thead><tbody><tr><td><strong>0</strong></td><td>Tom       </td><td>Sonic     </td><td>True</td><td>        20</td><td>         4</td></tr><tr><td><strong>1</strong></td><td>Jerry     </td><td>Accountant</td><td>False</td><td>         5</td><td>         5</td></tr><tr><td><strong>2</strong></td><td>John      </td><td>Doctor Strange</td><td>True</td><td>        80</td><td>         4</td></tr></tbody></table>"
      ],
      "text/plain": [
       "<liopard.DataFrame at 0x10dc41cd0>"
      ]
     },
     "execution_count": 30,
     "metadata": {},
     "output_type": "execute_result"
    }
   ],
   "source": [
    "df.drop('comment')"
   ]
  },
  {
   "cell_type": "code",
   "execution_count": 31,
   "metadata": {},
   "outputs": [
    {
     "data": {
      "text/html": [
       "<table><thead><tr><th></th><th>name      </th><th>movie     </th><th>paid      </th><th>cost      </th><th>review    </th><th>comment   </th></tr></thead><tbody><tr><td><strong>0</strong></td><td>Tom       </td><td>Sonic     </td><td>         1</td><td>        20</td><td>         4</td><td>good      </td></tr><tr><td><strong>1</strong></td><td>Jerry     </td><td>Accountant</td><td>         1</td><td>        25</td><td>         9</td><td>good      </td></tr><tr><td><strong>2</strong></td><td>John      </td><td>Doctor Strange</td><td>         2</td><td>       105</td><td>        13</td><td>good      </td></tr></tbody></table>"
      ],
      "text/plain": [
       "<liopard.DataFrame at 0x105164b50>"
      ]
     },
     "execution_count": 31,
     "metadata": {},
     "output_type": "execute_result"
    }
   ],
   "source": [
    "df.cumsum()"
   ]
  },
  {
   "cell_type": "code",
   "execution_count": 32,
   "metadata": {},
   "outputs": [
    {
     "data": {
      "text/html": [
       "<table><thead><tr><th></th><th>name      </th><th>movie     </th><th>paid      </th><th>cost      </th><th>review    </th><th>comment   </th></tr></thead><tbody><tr><td><strong>0</strong></td><td>Tom       </td><td>Sonic     </td><td>       nan</td><td>       nan</td><td>       nan</td><td>good      </td></tr><tr><td><strong>1</strong></td><td>Jerry     </td><td>Accountant</td><td>       nan</td><td>       nan</td><td>       nan</td><td>good      </td></tr><tr><td><strong>2</strong></td><td>John      </td><td>Doctor Strange</td><td>     0.000</td><td>    60.000</td><td>     0.000</td><td>good      </td></tr></tbody></table>"
      ],
      "text/plain": [
       "<liopard.DataFrame at 0x10dc41bb0>"
      ]
     },
     "execution_count": 32,
     "metadata": {},
     "output_type": "execute_result"
    }
   ],
   "source": [
    "df.diff(2)"
   ]
  },
  {
   "cell_type": "code",
   "execution_count": 33,
   "metadata": {},
   "outputs": [
    {
     "data": {
      "text/html": [
       "<table><thead><tr><th></th><th>paid      </th><th>cost      </th></tr></thead><tbody><tr><td><strong>0</strong></td><td>         2</td><td>        21</td></tr><tr><td><strong>1</strong></td><td>         1</td><td>         6</td></tr><tr><td><strong>2</strong></td><td>         2</td><td>        81</td></tr></tbody></table>"
      ],
      "text/plain": [
       "<liopard.DataFrame at 0x10dc9bac0>"
      ]
     },
     "execution_count": 33,
     "metadata": {},
     "output_type": "execute_result"
    }
   ],
   "source": [
    "df1 = df[:,2:4]\n",
    "df1+1"
   ]
  },
  {
   "cell_type": "code",
   "execution_count": 34,
   "metadata": {},
   "outputs": [
    {
     "data": {
      "text/html": [
       "<table><thead><tr><th></th><th>name      </th><th>movie     </th><th>paid      </th><th>cost      </th><th>review    </th><th>comment   </th></tr></thead><tbody><tr><td><strong>0</strong></td><td>John      </td><td>Doctor Strange</td><td>True</td><td>        80</td><td>         4</td><td>good      </td></tr><tr><td><strong>1</strong></td><td>Tom       </td><td>Sonic     </td><td>True</td><td>        20</td><td>         4</td><td>good      </td></tr><tr><td><strong>2</strong></td><td>Jerry     </td><td>Accountant</td><td>False</td><td>         5</td><td>         5</td><td>good      </td></tr></tbody></table>"
      ],
      "text/plain": [
       "<liopard.DataFrame at 0x10dca2400>"
      ]
     },
     "execution_count": 34,
     "metadata": {},
     "output_type": "execute_result"
    }
   ],
   "source": [
    "df.sort_values(['paid', 'review'], asc=False)"
   ]
  },
  {
   "cell_type": "code",
   "execution_count": 35,
   "metadata": {},
   "outputs": [
    {
     "data": {
      "text/html": [
       "<table><thead><tr><th></th><th>name      </th><th>movie     </th><th>paid      </th><th>cost      </th><th>review    </th><th>comment   </th></tr></thead><tbody><tr><td><strong>0</strong></td><td>John      </td><td>Doctor Strange</td><td>True</td><td>        80</td><td>         4</td><td>good      </td></tr><tr><td><strong>1</strong></td><td>John      </td><td>Doctor Strange</td><td>True</td><td>        80</td><td>         4</td><td>good      </td></tr><tr><td><strong>2</strong></td><td>Tom       </td><td>Sonic     </td><td>True</td><td>        20</td><td>         4</td><td>good      </td></tr><tr><td><strong>3</strong></td><td>Jerry     </td><td>Accountant</td><td>False</td><td>         5</td><td>         5</td><td>good      </td></tr><tr><td><strong>4</strong></td><td>John      </td><td>Doctor Strange</td><td>True</td><td>        80</td><td>         4</td><td>good      </td></tr><tr><td><strong>5</strong></td><td>Jerry     </td><td>Accountant</td><td>False</td><td>         5</td><td>         5</td><td>good      </td></tr></tbody></table>"
      ],
      "text/plain": [
       "<liopard.DataFrame at 0x10dca91c0>"
      ]
     },
     "execution_count": 35,
     "metadata": {},
     "output_type": "execute_result"
    }
   ],
   "source": [
    "df.sample(frac=2,seed=1836,replace=True)"
   ]
  },
  {
   "cell_type": "code",
   "execution_count": 36,
   "metadata": {},
   "outputs": [
    {
     "data": {
      "text/html": [
       "<table><thead><tr><th></th><th>colors    </th><th>hex       </th><th>square    </th></tr></thead><tbody><tr><td><strong>0</strong></td><td>blue      </td><td>        20</td><td>       114</td></tr><tr><td><strong>1</strong></td><td>white     </td><td>         7</td><td>        10</td></tr></tbody></table>"
      ],
      "text/plain": [
       "<liopard.DataFrame at 0x10dcabfd0>"
      ]
     },
     "execution_count": 36,
     "metadata": {},
     "output_type": "execute_result"
    }
   ],
   "source": [
    "colors = np.array(['blue', 'blue', 'blue', 'blue', 'white','white', 'white'])\n",
    "shapes = np.array(['square','square','square','hex', 'square', 'hex', 'hex'])\n",
    "sizes= np.array([9, 100, 5, 20, 10, 5, 2])\n",
    "my_df = liop.DataFrame({'colors':colors, 'shapes':shapes, 'sizes':sizes})\n",
    "my_df.pivot_table(rows='colors',columns='shapes', values='sizes', aggfunc='sum')"
   ]
  },
  {
   "cell_type": "code",
   "execution_count": 48,
   "metadata": {},
   "outputs": [
    {
     "data": {
      "text/html": [
       "<table><thead><tr><th></th><th>comment   </th></tr></thead><tbody><tr><td><strong>0</strong></td><td>         1</td></tr><tr><td><strong>1</strong></td><td>         1</td></tr><tr><td><strong>2</strong></td><td>         1</td></tr></tbody></table>"
      ],
      "text/plain": [
       "<liopard.DataFrame at 0x11c5d6f70>"
      ]
     },
     "execution_count": 48,
     "metadata": {},
     "output_type": "execute_result"
    }
   ],
   "source": [
    "df.str.count('comment', 'good')"
   ]
  },
  {
   "cell_type": "code",
   "execution_count": 57,
   "metadata": {},
   "outputs": [],
   "source": [
    "# test = liop.read_csv('data/test.csv')"
   ]
  },
  {
   "cell_type": "code",
   "execution_count": 59,
   "metadata": {},
   "outputs": [
    {
     "data": {
      "text/html": [
       "<table><thead><tr><th></th><th>Column Name</th><th>Data Type </th></tr></thead><tbody><tr><td><strong>0</strong></td><td>dept      </td><td>string    </td></tr><tr><td><strong>1</strong></td><td>race      </td><td>string    </td></tr><tr><td><strong>2</strong></td><td>gender    </td><td>string    </td></tr></tbody></table>"
      ],
      "text/plain": [
       "<liopard.DataFrame at 0x15a5367f0>"
      ]
     },
     "execution_count": 59,
     "metadata": {},
     "output_type": "execute_result"
    }
   ],
   "source": [
    "# test.dtypes"
   ]
  },
  {
   "cell_type": "code",
   "execution_count": null,
   "metadata": {},
   "outputs": [],
   "source": []
  }
 ],
 "metadata": {
  "kernelspec": {
   "display_name": "Python 3 (ipykernel)",
   "language": "python",
   "name": "python3"
  },
  "language_info": {
   "codemirror_mode": {
    "name": "ipython",
    "version": 3
   },
   "file_extension": ".py",
   "mimetype": "text/x-python",
   "name": "python",
   "nbconvert_exporter": "python",
   "pygments_lexer": "ipython3",
   "version": "3.9.12"
  },
  "vscode": {
   "interpreter": {
    "hash": "b0fa6594d8f4cbf19f97940f81e996739fb7646882a419484c72d19e05852a7e"
   }
  }
 },
 "nbformat": 4,
 "nbformat_minor": 2
}
