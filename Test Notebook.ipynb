{
 "cells": [
  {
   "cell_type": "markdown",
   "metadata": {},
   "source": [
    "# Test"
   ]
  },
  {
   "cell_type": "code",
   "execution_count": 58,
   "metadata": {},
   "outputs": [
    {
     "data": {
      "text/plain": [
       "'/Users/zx/opt/miniconda3/envs/liopard/bin/python'"
      ]
     },
     "execution_count": 58,
     "metadata": {},
     "output_type": "execute_result"
    }
   ],
   "source": [
    "import sys\n",
    "sys.executable"
   ]
  },
  {
   "cell_type": "code",
   "execution_count": 59,
   "metadata": {},
   "outputs": [
    {
     "name": "stdout",
     "output_type": "stream",
     "text": [
      "The autoreload extension is already loaded. To reload it, use:\n",
      "  %reload_ext autoreload\n"
     ]
    }
   ],
   "source": [
    "%load_ext autoreload\n",
    "%autoreload 2"
   ]
  },
  {
   "cell_type": "code",
   "execution_count": 60,
   "metadata": {},
   "outputs": [],
   "source": [
    "import numpy as np\n",
    "import liopard as liop\n",
    "import pandas as pd"
   ]
  },
  {
   "cell_type": "code",
   "execution_count": 61,
   "metadata": {},
   "outputs": [],
   "source": [
    "name = np.array(['Tom', 'Jerry', 'John'])\n",
    "movie = np.array(['Sonic', 'Accountant', 'Doctor Strange'])\n",
    "paid = np.array([True, False, True])\n",
    "cost = np.array([20, 5, 80])\n",
    "\n",
    "data = {'name': name, 'movie': movie, 'paid': paid, 'cost': cost}\n",
    "\n",
    "df = liop.DataFrame(data)\n",
    "df_pandas = pd.DataFrame(data)"
   ]
  },
  {
   "cell_type": "code",
   "execution_count": 62,
   "metadata": {},
   "outputs": [
    {
     "data": {
      "text/html": [
       "<table><thead><tr><th></th><th>name      </th><th>movie     </th><th>paid      </th><th>cost      </th></tr></thead><tbody><tr><td><strong>0</strong></td><td>Tom       </td><td>Sonic     </td><td>True</td><td>        20</td></tr><tr><td><strong>1</strong></td><td>Jerry     </td><td>Accountant</td><td>False</td><td>         5</td></tr><tr><td><strong>2</strong></td><td>John      </td><td>Doctor Strange</td><td>True</td><td>        80</td></tr></tbody></table>"
      ],
      "text/plain": [
       "<liopard.DataFrame at 0x12409c940>"
      ]
     },
     "execution_count": 62,
     "metadata": {},
     "output_type": "execute_result"
    }
   ],
   "source": [
    "df"
   ]
  },
  {
   "cell_type": "code",
   "execution_count": 63,
   "metadata": {},
   "outputs": [
    {
     "data": {
      "text/html": [
       "<div>\n",
       "<style scoped>\n",
       "    .dataframe tbody tr th:only-of-type {\n",
       "        vertical-align: middle;\n",
       "    }\n",
       "\n",
       "    .dataframe tbody tr th {\n",
       "        vertical-align: top;\n",
       "    }\n",
       "\n",
       "    .dataframe thead th {\n",
       "        text-align: right;\n",
       "    }\n",
       "</style>\n",
       "<table border=\"1\" class=\"dataframe\">\n",
       "  <thead>\n",
       "    <tr style=\"text-align: right;\">\n",
       "      <th></th>\n",
       "      <th>name</th>\n",
       "      <th>movie</th>\n",
       "      <th>paid</th>\n",
       "      <th>cost</th>\n",
       "    </tr>\n",
       "  </thead>\n",
       "  <tbody>\n",
       "    <tr>\n",
       "      <th>0</th>\n",
       "      <td>Tom</td>\n",
       "      <td>Sonic</td>\n",
       "      <td>True</td>\n",
       "      <td>20</td>\n",
       "    </tr>\n",
       "    <tr>\n",
       "      <th>1</th>\n",
       "      <td>Jerry</td>\n",
       "      <td>Accountant</td>\n",
       "      <td>False</td>\n",
       "      <td>5</td>\n",
       "    </tr>\n",
       "    <tr>\n",
       "      <th>2</th>\n",
       "      <td>John</td>\n",
       "      <td>Doctor Strange</td>\n",
       "      <td>True</td>\n",
       "      <td>80</td>\n",
       "    </tr>\n",
       "  </tbody>\n",
       "</table>\n",
       "</div>"
      ],
      "text/plain": [
       "    name           movie   paid  cost\n",
       "0    Tom           Sonic   True    20\n",
       "1  Jerry      Accountant  False     5\n",
       "2   John  Doctor Strange   True    80"
      ]
     },
     "execution_count": 63,
     "metadata": {},
     "output_type": "execute_result"
    }
   ],
   "source": [
    "df_pandas"
   ]
  },
  {
   "cell_type": "code",
   "execution_count": 64,
   "metadata": {},
   "outputs": [],
   "source": [
    "#common type errors\n",
    "# d = np.array([[1,2],[3,4]])\n",
    "# liop.DataFrame(d)"
   ]
  },
  {
   "cell_type": "code",
   "execution_count": 65,
   "metadata": {},
   "outputs": [],
   "source": [
    "#length error\n",
    "# arr1 = np.array([1,2])\n",
    "# arr2 = np.array([3,4,5])\n",
    "# d = {'a':arr1, 'b':arr2 }\n",
    "# liop.DataFrame(d)"
   ]
  },
  {
   "cell_type": "code",
   "execution_count": 66,
   "metadata": {},
   "outputs": [
    {
     "data": {
      "text/plain": [
       "3"
      ]
     },
     "execution_count": 66,
     "metadata": {},
     "output_type": "execute_result"
    }
   ],
   "source": [
    "len(df)"
   ]
  },
  {
   "cell_type": "code",
   "execution_count": 67,
   "metadata": {},
   "outputs": [
    {
     "data": {
      "text/plain": [
       "['name', 'movie', 'paid', 'cost']"
      ]
     },
     "execution_count": 67,
     "metadata": {},
     "output_type": "execute_result"
    }
   ],
   "source": [
    "df.columns"
   ]
  },
  {
   "cell_type": "code",
   "execution_count": 68,
   "metadata": {},
   "outputs": [],
   "source": [
    "#df.columns = ['a', 'b', 'c', 'd']"
   ]
  },
  {
   "cell_type": "code",
   "execution_count": 69,
   "metadata": {},
   "outputs": [
    {
     "data": {
      "text/plain": [
       "(3, 4)"
      ]
     },
     "execution_count": 69,
     "metadata": {},
     "output_type": "execute_result"
    }
   ],
   "source": [
    "df.shape"
   ]
  },
  {
   "cell_type": "code",
   "execution_count": 70,
   "metadata": {},
   "outputs": [
    {
     "data": {
      "text/plain": [
       "'<table><thead><tr><th></th><th>name      </th><th>movie     </th><th>paid      </th><th>cost      </th></tr></thead><tbody><tr><td><strong>0</strong></td><td>Tom       </td><td>Sonic     </td><td>True</td><td>        20</td></tr><tr><td><strong>1</strong></td><td>Jerry     </td><td>Accountant</td><td>False</td><td>         5</td></tr><tr><td><strong>2</strong></td><td>John      </td><td>Doctor Strange</td><td>True</td><td>        80</td></tr></tbody></table>'"
      ]
     },
     "execution_count": 70,
     "metadata": {},
     "output_type": "execute_result"
    }
   ],
   "source": [
    "df._repr_html_()"
   ]
  },
  {
   "cell_type": "code",
   "execution_count": 71,
   "metadata": {},
   "outputs": [
    {
     "data": {
      "text/html": [
       "<table><thead><tr><th></th><th>Column Name</th><th>Data Type </th></tr></thead><tbody><tr><td><strong>0</strong></td><td>name      </td><td>string    </td></tr><tr><td><strong>1</strong></td><td>movie     </td><td>string    </td></tr><tr><td><strong>2</strong></td><td>paid      </td><td>bool      </td></tr><tr><td><strong>3</strong></td><td>cost      </td><td>int       </td></tr></tbody></table>"
      ],
      "text/plain": [
       "<liopard.DataFrame at 0x116d88c70>"
      ]
     },
     "execution_count": 71,
     "metadata": {},
     "output_type": "execute_result"
    }
   ],
   "source": [
    "df.dtypes"
   ]
  },
  {
   "cell_type": "code",
   "execution_count": 72,
   "metadata": {},
   "outputs": [
    {
     "data": {
      "text/html": [
       "<table><thead><tr><th></th><th>name      </th><th>movie     </th></tr></thead><tbody><tr><td><strong>0</strong></td><td>Tom       </td><td>Sonic     </td></tr><tr><td><strong>1</strong></td><td>Jerry     </td><td>Accountant</td></tr><tr><td><strong>2</strong></td><td>John      </td><td>Doctor Strange</td></tr></tbody></table>"
      ],
      "text/plain": [
       "<liopard.DataFrame at 0x124442520>"
      ]
     },
     "execution_count": 72,
     "metadata": {},
     "output_type": "execute_result"
    }
   ],
   "source": [
    "df[['name','movie']]"
   ]
  },
  {
   "cell_type": "code",
   "execution_count": 73,
   "metadata": {},
   "outputs": [
    {
     "data": {
      "text/html": [
       "<table><thead><tr><th></th><th>name      </th><th>movie     </th><th>paid      </th><th>cost      </th></tr></thead><tbody><tr><td><strong>0</strong></td><td>Tom       </td><td>Sonic     </td><td>True</td><td>        20</td></tr><tr><td><strong>1</strong></td><td>John      </td><td>Doctor Strange</td><td>True</td><td>        80</td></tr></tbody></table>"
      ],
      "text/plain": [
       "<liopard.DataFrame at 0x1240a4b50>"
      ]
     },
     "execution_count": 73,
     "metadata": {},
     "output_type": "execute_result"
    }
   ],
   "source": [
    "filt = df['paid']\n",
    "df[filt]"
   ]
  },
  {
   "cell_type": "code",
   "execution_count": 74,
   "metadata": {},
   "outputs": [
    {
     "data": {
      "text/html": [
       "<table><thead><tr><th></th><th>paid      </th></tr></thead><tbody><tr><td><strong>0</strong></td><td>False</td></tr></tbody></table>"
      ],
      "text/plain": [
       "<liopard.DataFrame at 0x1240a4610>"
      ]
     },
     "execution_count": 74,
     "metadata": {},
     "output_type": "execute_result"
    }
   ],
   "source": [
    "df[1,2]"
   ]
  },
  {
   "cell_type": "code",
   "execution_count": 75,
   "metadata": {},
   "outputs": [
    {
     "data": {
      "text/html": [
       "<table><thead><tr><th></th><th>cost      </th></tr></thead><tbody><tr><td><strong>0</strong></td><td>        20</td></tr></tbody></table>"
      ],
      "text/plain": [
       "<liopard.DataFrame at 0x1240a4490>"
      ]
     },
     "execution_count": 75,
     "metadata": {},
     "output_type": "execute_result"
    }
   ],
   "source": [
    "df[0, 'cost']"
   ]
  },
  {
   "cell_type": "code",
   "execution_count": 76,
   "metadata": {},
   "outputs": [
    {
     "data": {
      "text/html": [
       "<table><thead><tr><th></th><th>name      </th></tr></thead><tbody><tr><td><strong>0</strong></td><td>Tom       </td></tr><tr><td><strong>1</strong></td><td>Jerry     </td></tr></tbody></table>"
      ],
      "text/plain": [
       "<liopard.DataFrame at 0x1240faa30>"
      ]
     },
     "execution_count": 76,
     "metadata": {},
     "output_type": "execute_result"
    }
   ],
   "source": [
    "df[[0,1], 'name']"
   ]
  },
  {
   "cell_type": "code",
   "execution_count": 77,
   "metadata": {},
   "outputs": [
    {
     "data": {
      "text/html": [
       "<table><thead><tr><th></th><th>name      </th><th>movie     </th><th>paid      </th></tr></thead><tbody><tr><td><strong>0</strong></td><td>Tom       </td><td>Sonic     </td><td>True</td></tr><tr><td><strong>1</strong></td><td>Jerry     </td><td>Accountant</td><td>False</td></tr><tr><td><strong>2</strong></td><td>John      </td><td>Doctor Strange</td><td>True</td></tr></tbody></table>"
      ],
      "text/plain": [
       "<liopard.DataFrame at 0x1240fabe0>"
      ]
     },
     "execution_count": 77,
     "metadata": {},
     "output_type": "execute_result"
    }
   ],
   "source": [
    "df[:, 'name':'paid']"
   ]
  },
  {
   "cell_type": "code",
   "execution_count": 78,
   "metadata": {},
   "outputs": [],
   "source": [
    "df['review'] = np.array([4,5,4])\n",
    "df['comment'] = 'good'"
   ]
  },
  {
   "cell_type": "code",
   "execution_count": 79,
   "metadata": {},
   "outputs": [
    {
     "data": {
      "text/html": [
       "<table><thead><tr><th></th><th>name      </th><th>movie     </th><th>paid      </th><th>cost      </th><th>review    </th><th>comment   </th></tr></thead><tbody><tr><td><strong>0</strong></td><td>John      </td><td>Doctor Strange</td><td>True</td><td>        80</td><td>         4</td><td>good      </td></tr></tbody></table>"
      ],
      "text/plain": [
       "<liopard.DataFrame at 0x1240faf10>"
      ]
     },
     "execution_count": 79,
     "metadata": {},
     "output_type": "execute_result"
    }
   ],
   "source": [
    "df.tail(1)"
   ]
  },
  {
   "cell_type": "code",
   "execution_count": 80,
   "metadata": {},
   "outputs": [
    {
     "data": {
      "text/html": [
       "<table><thead><tr><th></th><th>name      </th><th>movie     </th><th>paid      </th><th>cost      </th><th>review    </th><th>comment   </th></tr></thead><tbody><tr><td><strong>0</strong></td><td>TomJerryJohn</td><td>SonicAccountantDoctor Strange</td><td>         2</td><td>       105</td><td>        13</td><td>goodgoodgood</td></tr></tbody></table>"
      ],
      "text/plain": [
       "<liopard.DataFrame at 0x1240fa970>"
      ]
     },
     "execution_count": 80,
     "metadata": {},
     "output_type": "execute_result"
    }
   ],
   "source": [
    "df.sum()"
   ]
  },
  {
   "cell_type": "code",
   "execution_count": 81,
   "metadata": {},
   "outputs": [
    {
     "data": {
      "text/html": [
       "<table><thead><tr><th></th><th>name      </th><th>movie     </th><th>paid      </th><th>cost      </th><th>review    </th><th>comment   </th></tr></thead><tbody><tr><td><strong>0</strong></td><td>False</td><td>False</td><td>False</td><td>False</td><td>False</td><td>False</td></tr><tr><td><strong>1</strong></td><td>False</td><td>False</td><td>False</td><td>False</td><td>False</td><td>False</td></tr><tr><td><strong>2</strong></td><td>False</td><td>False</td><td>False</td><td>False</td><td>False</td><td>False</td></tr></tbody></table>"
      ],
      "text/plain": [
       "<liopard.DataFrame at 0x116d97850>"
      ]
     },
     "execution_count": 81,
     "metadata": {},
     "output_type": "execute_result"
    }
   ],
   "source": [
    "df.isna()"
   ]
  },
  {
   "cell_type": "code",
   "execution_count": 82,
   "metadata": {},
   "outputs": [
    {
     "data": {
      "text/html": [
       "<table><thead><tr><th></th><th>name      </th><th>movie     </th><th>paid      </th><th>cost      </th><th>review    </th><th>comment   </th></tr></thead><tbody><tr><td><strong>0</strong></td><td>         3</td><td>         3</td><td>         3</td><td>         3</td><td>         3</td><td>         3</td></tr></tbody></table>"
      ],
      "text/plain": [
       "<liopard.DataFrame at 0x1244a08b0>"
      ]
     },
     "execution_count": 82,
     "metadata": {},
     "output_type": "execute_result"
    }
   ],
   "source": [
    "df.count()"
   ]
  },
  {
   "cell_type": "code",
   "execution_count": 89,
   "metadata": {},
   "outputs": [
    {
     "data": {
      "text/html": [
       "<table><thead><tr><th></th><th>comment   </th></tr></thead><tbody><tr><td><strong>0</strong></td><td>good      </td></tr></tbody></table>"
      ],
      "text/plain": [
       "<liopard.DataFrame at 0x1244c37f0>"
      ]
     },
     "execution_count": 89,
     "metadata": {},
     "output_type": "execute_result"
    }
   ],
   "source": [
    "df.unique()[-1]"
   ]
  },
  {
   "cell_type": "code",
   "execution_count": 90,
   "metadata": {},
   "outputs": [
    {
     "data": {
      "text/html": [
       "<table><thead><tr><th></th><th>name      </th><th>movie     </th><th>paid      </th><th>cost      </th><th>review    </th><th>comment   </th></tr></thead><tbody><tr><td><strong>0</strong></td><td>         3</td><td>         3</td><td>         2</td><td>         3</td><td>         2</td><td>         1</td></tr></tbody></table>"
      ],
      "text/plain": [
       "<liopard.DataFrame at 0x124499b50>"
      ]
     },
     "execution_count": 90,
     "metadata": {},
     "output_type": "execute_result"
    }
   ],
   "source": [
    "df.nunique()"
   ]
  },
  {
   "cell_type": "code",
   "execution_count": null,
   "metadata": {},
   "outputs": [],
   "source": []
  }
 ],
 "metadata": {
  "kernelspec": {
   "display_name": "Python 3 (ipykernel)",
   "language": "python",
   "name": "python3"
  },
  "language_info": {
   "codemirror_mode": {
    "name": "ipython",
    "version": 3
   },
   "file_extension": ".py",
   "mimetype": "text/x-python",
   "name": "python",
   "nbconvert_exporter": "python",
   "pygments_lexer": "ipython3",
   "version": "3.9.12"
  },
  "vscode": {
   "interpreter": {
    "hash": "b0fa6594d8f4cbf19f97940f81e996739fb7646882a419484c72d19e05852a7e"
   }
  }
 },
 "nbformat": 4,
 "nbformat_minor": 2
}
